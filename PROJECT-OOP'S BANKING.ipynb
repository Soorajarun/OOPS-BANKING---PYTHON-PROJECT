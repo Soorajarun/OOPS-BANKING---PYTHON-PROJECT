{
 "cells": [
  {
   "cell_type": "code",
   "execution_count": 3,
   "id": "170c7bd6-041d-4c7b-ac53-fde4baab7309",
   "metadata": {},
   "outputs": [
    {
     "name": "stdout",
     "output_type": "stream",
     "text": [
      "Welcome to state Bank of India\n"
     ]
    },
    {
     "name": "stdin",
     "output_type": "stream",
     "text": [
      "Enter your username:  Sooraj Arun\n",
      "Enter your password:  1234\n"
     ]
    },
    {
     "name": "stdout",
     "output_type": "stream",
     "text": [
      "Login successful! Welcome, Sooraj Arun.\n",
      "\n",
      "Select an option:\n",
      "1. Deposit Money\n",
      "2. Withdraw Money\n",
      "3. Display Balance\n",
      "4. Exit\n"
     ]
    },
    {
     "name": "stdin",
     "output_type": "stream",
     "text": [
      "Enter your choice (1/2/3/4):  1\n",
      "Enter amount to be deposited:  5000\n"
     ]
    },
    {
     "name": "stdout",
     "output_type": "stream",
     "text": [
      "Amount deposited: Rs 5000.0\n",
      "\n",
      "Select an option:\n",
      "1. Deposit Money\n",
      "2. Withdraw Money\n",
      "3. Display Balance\n",
      "4. Exit\n"
     ]
    },
    {
     "name": "stdin",
     "output_type": "stream",
     "text": [
      "Enter your choice (1/2/3/4):  2\n",
      "Enter amount to be withdrawn:  1000\n"
     ]
    },
    {
     "name": "stdout",
     "output_type": "stream",
     "text": [
      "Amount withdrawn: Rs 1000.0\n",
      "\n",
      "Select an option:\n",
      "1. Deposit Money\n",
      "2. Withdraw Money\n",
      "3. Display Balance\n",
      "4. Exit\n"
     ]
    },
    {
     "name": "stdin",
     "output_type": "stream",
     "text": [
      "Enter your choice (1/2/3/4):  3\n"
     ]
    },
    {
     "name": "stdout",
     "output_type": "stream",
     "text": [
      "Net balance is: Rs 4000.0\n",
      "\n",
      "Select an option:\n",
      "1. Deposit Money\n",
      "2. Withdraw Money\n",
      "3. Display Balance\n",
      "4. Exit\n"
     ]
    },
    {
     "name": "stdin",
     "output_type": "stream",
     "text": [
      "Enter your choice (1/2/3/4):  4\n"
     ]
    },
    {
     "name": "stdout",
     "output_type": "stream",
     "text": [
      "Thank you for using the State Bank of India.\n"
     ]
    }
   ],
   "source": [
    "class Account:\n",
    "    balance = 0.0\n",
    "\n",
    "    def display_balance(self):\n",
    "        print(f\"Net balance is: Rs {self.balance}\")\n",
    "\n",
    "    def deposit(self):\n",
    "        amount = float(input(\"Enter amount to be deposited: \"))\n",
    "        self.balance += amount\n",
    "        print(f\"Amount deposited: Rs {amount}\")\n",
    "\n",
    "    def withdraw(self):\n",
    "        amount = float(input(\"Enter amount to be withdrawn: \"))\n",
    "        if self.balance >= amount:\n",
    "            self.balance -= amount\n",
    "            print(f\"Amount withdrawn: Rs {amount}\")\n",
    "        else:\n",
    "            print(\"Insuffcient balance for withdrawal.\")\n",
    "\n",
    "def login():\n",
    "    username = input(\"Enter your username: \")\n",
    "    password = input(\"Enter your password: \")\n",
    "    print(f\"Login successful! Welcome, {username}.\")\n",
    "\n",
    "#main program\n",
    "def main():\n",
    "    print(\"Welcome to state Bank of India\")\n",
    "    login()\n",
    "    bank_account = Account()\n",
    "\n",
    "    while True:\n",
    "        print(\"\\nSelect an option:\")\n",
    "        print(\"1. Deposit Money\")\n",
    "        print(\"2. Withdraw Money\")\n",
    "        print(\"3. Display Balance\")\n",
    "        print(\"4. Exit\")\n",
    "\n",
    "        choice = input(\"Enter your choice (1/2/3/4): \")\n",
    "        if choice == '1':\n",
    "            bank_account.deposit()\n",
    "        elif choice == '2':\n",
    "            bank_account.withdraw()\n",
    "        elif choice == '3':\n",
    "            bank_account.display_balance()\n",
    "        elif choice == '4':\n",
    "            print(\"Thank you for using the State Bank of India.\")\n",
    "            break\n",
    "        else:\n",
    "            print(\"Invalid choice. Please try again.\")\n",
    "\n",
    "main()"
   ]
  }
 ],
 "metadata": {
  "kernelspec": {
   "display_name": "Python 3 (ipykernel)",
   "language": "python",
   "name": "python3"
  },
  "language_info": {
   "codemirror_mode": {
    "name": "ipython",
    "version": 3
   },
   "file_extension": ".py",
   "mimetype": "text/x-python",
   "name": "python",
   "nbconvert_exporter": "python",
   "pygments_lexer": "ipython3",
   "version": "3.12.4"
  }
 },
 "nbformat": 4,
 "nbformat_minor": 5
}
